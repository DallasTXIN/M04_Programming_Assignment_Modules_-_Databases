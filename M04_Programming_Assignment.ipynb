{
 "cells": [
  {
   "cell_type": "code",
   "execution_count": null,
   "id": "f0ff2b55",
   "metadata": {},
   "outputs": [],
   "source": [
    "#Dallas Lawson\n",
    "#M04 Programming Assignment\n",
    "\n",
    "#11.2\n",
    "import zoo as menagerie\n",
    "menagerie.hours()\n",
    "\n",
    "#16.8\n",
    "import sqlalchemy\n",
    "conn = sqlalchemy.create_engine('sqlite:///books.db')\n",
    "sql = 'select title from book order by title asc'\n",
    "rows = conn.execute(sql)\n",
    "for row in rows:\n",
    "    print(row)"
   ]
  },
  {
   "cell_type": "code",
   "execution_count": null,
   "id": "43e26be8",
   "metadata": {},
   "outputs": [],
   "source": [
    "#Dallas Lawson\n",
    "#M04 Programming Assignment\n",
    "\n",
    "#11.1\n",
    "def hours():\n",
    "    print(\"Open 9-5 daily!\")\n",
    "#When I finished this, I thought that I had done something wrong, then realized I did it right first try."
   ]
  }
 ],
 "metadata": {
  "kernelspec": {
   "display_name": "Python 3 (ipykernel)",
   "language": "python",
   "name": "python3"
  },
  "language_info": {
   "codemirror_mode": {
    "name": "ipython",
    "version": 3
   },
   "file_extension": ".py",
   "mimetype": "text/x-python",
   "name": "python",
   "nbconvert_exporter": "python",
   "pygments_lexer": "ipython3",
   "version": "3.9.13"
  }
 },
 "nbformat": 4,
 "nbformat_minor": 5
}
